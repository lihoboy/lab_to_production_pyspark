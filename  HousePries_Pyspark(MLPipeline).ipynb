{
 "cells": [
  {
   "cell_type": "markdown",
   "metadata": {},
   "source": [
    "### Import Libs"
   ]
  },
  {
   "cell_type": "code",
   "execution_count": 140,
   "metadata": {},
   "outputs": [],
   "source": [
    "import os\n",
    "os.environ['PYSPARK_SUBMIT_ARGS'] = '--jars xgboost4j-spark-0.72.jar,xgboost4j-0.72.jar pyspark-shell'\n",
    "import pyspark\n",
    "from pyspark.sql import SparkSession, functions as F, DataFrame\n",
    "import pyspark.sql.functions as F\n",
    "from pyspark.sql.functions import lit\n",
    "from pyspark.sql.functions import isnan, when, count, col\n",
    "from pyspark.sql import types \n",
    "from pyspark.sql.functions import when\n",
    "from pyspark.sql.functions import mean as _mean, stddev as _stddev, col\n",
    "import pyspark.sql.types as T\n",
    "from pyspark.sql.functions import desc\n",
    "spark = SparkSession.builder.getOrCreate()\n",
    "from pyspark.ml import Pipeline \n",
    "from pyspark.ml.feature import * \n",
    "\n",
    "\n",
    "spark.sparkContext.addPyFile(\"sparkxgb.zip\")\n",
    "from sparkxgb import XGBoostEstimator"
   ]
  },
  {
   "cell_type": "markdown",
   "metadata": {},
   "source": [
    "### Load Data"
   ]
  },
  {
   "cell_type": "code",
   "execution_count": 141,
   "metadata": {},
   "outputs": [
    {
     "name": "stdout",
     "output_type": "stream",
     "text": [
      "Shape of sprkdf_train (1460, 81)\n",
      "Shape of sprkdf_test (1459, 80)\n"
     ]
    }
   ],
   "source": [
    "sprkdf_train = spark.read.csv('train.csv', inferSchema=True, header=True)\n",
    "sprkdf_test = spark.read.csv('test.csv', inferSchema=True, header=True)\n",
    "print(\"Shape of sprkdf_train\",(sprkdf_train.count(), len(sprkdf_train.columns)))\n",
    "print(\"Shape of sprkdf_test\",(sprkdf_test.count(), len(sprkdf_test.columns)))\n",
    "# sprkdf_train.printSchema()"
   ]
  },
  {
   "cell_type": "markdown",
   "metadata": {},
   "source": [
    "### Categorical data (OneHotEncoder)"
   ]
  },
  {
   "cell_type": "code",
   "execution_count": 142,
   "metadata": {},
   "outputs": [],
   "source": [
    "from pyspark.ml import Pipeline\n",
    "from pyspark.ml.feature import OneHotEncoderEstimator, VectorAssembler\n",
    "CATE_FEATURES = ['Alley', 'LotShape', 'LotConfig', 'Neighborhood', 'RoofStyle', 'Foundation', 'Electrical', 'GarageFinish']\n",
    "stages_pipe = [] # stages in our Pipeline\n",
    "for categoricalCol in CATE_FEATURES:\n",
    "    stringIndexer = StringIndexer(inputCol=categoricalCol, outputCol=categoricalCol + \"Index\")\n",
    "    encoder = OneHotEncoderEstimator(inputCols=[stringIndexer.getOutputCol()],\n",
    "                                     outputCols=[categoricalCol + \"classVec\"])\n",
    "    stages_pipe += [stringIndexer, encoder]\n",
    "CATE_FEATURES_name = [x+\"classVec\" for x in CATE_FEATURES]"
   ]
  },
  {
   "cell_type": "markdown",
   "metadata": {},
   "source": [
    "### VectorAssembler"
   ]
  },
  {
   "cell_type": "code",
   "execution_count": 143,
   "metadata": {},
   "outputs": [],
   "source": [
    "numeric_feature = ['TotRmsAbvGrd']\n",
    "\n",
    "from pyspark.ml.feature import VectorAssembler\n",
    "VA = VectorAssembler(inputCols=CATE_FEATURES_name + numeric_feature, outputCol=\"features\")\n",
    "stages_pipe += [VA]"
   ]
  },
  {
   "cell_type": "markdown",
   "metadata": {},
   "source": [
    "### Training  Model"
   ]
  },
  {
   "cell_type": "code",
   "execution_count": 146,
   "metadata": {},
   "outputs": [],
   "source": [
    "from pyspark.ml.regression import GBTRegressor\n",
    "# Train a GBT model.\n",
    "GBT = GBTRegressor(featuresCol = 'features', labelCol='SalePrice')\n",
    "stages_pipe += [GBT]\n",
    "\n",
    "# # XGboost\n",
    "# XGB = XGBoostEstimator(featuresCol=\"features\", labelCol=\"SalePrice\")\n",
    "# stages_pipe += [XGB]"
   ]
  },
  {
   "cell_type": "markdown",
   "metadata": {},
   "source": [
    "### Build and Fit Pipeline"
   ]
  },
  {
   "cell_type": "code",
   "execution_count": 149,
   "metadata": {},
   "outputs": [],
   "source": [
    "# Build the pipeline \n",
    "pipeline = Pipeline(stages=stages_pipe) \n",
    "\n",
    "# Fit the pipeline \n",
    "model = pipeline.fit(sprkdf_train) \n",
    "\n",
    "# Make a prediction \n",
    "prediction = model.transform(sprkdf_test)"
   ]
  },
  {
   "cell_type": "code",
   "execution_count": 148,
   "metadata": {},
   "outputs": [],
   "source": [
    "type(prediction)\n",
    "df_out = prediction.select('Id',col(\"prediction\").alias(\"SalePrice\"))\n",
    "# df_out.write.csv('Pyspark_output.csv').save(header = 'true')\n",
    "df_out.toPandas().to_csv('Pyspark_output.csv', index=False)"
   ]
  },
  {
   "cell_type": "markdown",
   "metadata": {},
   "source": [
    "### Test XGboost"
   ]
  },
  {
   "cell_type": "code",
   "execution_count": 98,
   "metadata": {},
   "outputs": [],
   "source": []
  },
  {
   "cell_type": "code",
   "execution_count": 97,
   "metadata": {},
   "outputs": [
    {
     "ename": "NameError",
     "evalue": "name 'XGBoostEstimator' is not defined",
     "output_type": "error",
     "traceback": [
      "\u001b[0;31m---------------------------------------------------------------------------\u001b[0m",
      "\u001b[0;31mNameError\u001b[0m                                 Traceback (most recent call last)",
      "\u001b[0;32m<ipython-input-97-325397f5d7af>\u001b[0m in \u001b[0;36m<module>\u001b[0;34m\u001b[0m\n\u001b[0;32m----> 1\u001b[0;31m \u001b[0mxgboost\u001b[0m \u001b[0;34m=\u001b[0m \u001b[0mXGBoostEstimator\u001b[0m\u001b[0;34m(\u001b[0m\u001b[0mfeaturesCol\u001b[0m\u001b[0;34m=\u001b[0m\u001b[0;34m\"features\"\u001b[0m\u001b[0;34m,\u001b[0m \u001b[0mlabelCol\u001b[0m\u001b[0;34m=\u001b[0m\u001b[0;34m\"Survival\"\u001b[0m\u001b[0;34m,\u001b[0m \u001b[0mpredictionCol\u001b[0m\u001b[0;34m=\u001b[0m\u001b[0;34m\"prediction\"\u001b[0m\u001b[0;34m)\u001b[0m\u001b[0;34m\u001b[0m\u001b[0;34m\u001b[0m\u001b[0m\n\u001b[0m",
      "\u001b[0;31mNameError\u001b[0m: name 'XGBoostEstimator' is not defined"
     ]
    }
   ],
   "source": []
  },
  {
   "cell_type": "code",
   "execution_count": null,
   "metadata": {},
   "outputs": [],
   "source": []
  }
 ],
 "metadata": {
  "kernelspec": {
   "display_name": "Python 3",
   "language": "python",
   "name": "python3"
  },
  "language_info": {
   "codemirror_mode": {
    "name": "ipython",
    "version": 3
   },
   "file_extension": ".py",
   "mimetype": "text/x-python",
   "name": "python",
   "nbconvert_exporter": "python",
   "pygments_lexer": "ipython3",
   "version": "3.7.3"
  }
 },
 "nbformat": 4,
 "nbformat_minor": 2
}
