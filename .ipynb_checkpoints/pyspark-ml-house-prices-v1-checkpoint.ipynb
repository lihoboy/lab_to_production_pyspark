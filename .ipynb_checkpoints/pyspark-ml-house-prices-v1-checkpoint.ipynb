{
 "cells": [
  {
   "cell_type": "markdown",
   "metadata": {},
   "source": [
    "[PySpark linear-regression](https://spark.apache.org/docs/latest/ml-classification-regression.html#linear-regression)"
   ]
  },
  {
   "cell_type": "markdown",
   "metadata": {},
   "source": [
    "# 1. Get pyspark lib"
   ]
  },
  {
   "cell_type": "code",
   "execution_count": 1,
   "metadata": {
    "_kg_hide-output": true
   },
   "outputs": [
    {
     "name": "stdout",
     "output_type": "stream",
     "text": [
      "Collecting pyspark\r\n",
      "\u001b[?25l  Downloading https://files.pythonhosted.org/packages/87/21/f05c186f4ddb01d15d0ddc36ef4b7e3cedbeb6412274a41f26b55a650ee5/pyspark-2.4.4.tar.gz (215.7MB)\r\n",
      "\u001b[K     |████████████████████████████████| 215.7MB 48.7MB/s \r\n",
      "\u001b[?25hCollecting py4j==0.10.7 (from pyspark)\r\n",
      "\u001b[?25l  Downloading https://files.pythonhosted.org/packages/e3/53/c737818eb9a7dc32a7cd4f1396e787bd94200c3997c72c1dbe028587bd76/py4j-0.10.7-py2.py3-none-any.whl (197kB)\r\n",
      "\u001b[K     |████████████████████████████████| 204kB 28.8MB/s \r\n",
      "\u001b[?25hBuilding wheels for collected packages: pyspark\r\n",
      "  Building wheel for pyspark (setup.py) ... \u001b[?25l-\b \b\\\b \b|\b \b/\b \b-\b \b\\\b \b|\b \b/\b \b-\b \b\\\b \b|\b \b/\b \b-\b \b\\\b \b|\b \b/\b \b-\b \b\\\b \b|\b \b/\b \b-\b \b\\\b \b|\b \b/\b \b-\b \b\\\b \b|\b \b/\b \b-\b \b\\\b \b|\b \b/\b \b-\b \b\\\b \b|\b \b/\b \b-\b \b\\\b \b|\b \b/\b \b-\b \b\\\b \b|\b \b/\b \b-\b \b\\\b \b|\b \b/\b \b-\b \b\\\b \b|\b \b/\b \b-\b \b\\\b \b|\b \b/\b \b-\b \b\\\b \bdone\r\n",
      "\u001b[?25h  Created wheel for pyspark: filename=pyspark-2.4.4-py2.py3-none-any.whl size=216131250 sha256=5b882426239219ca03dfe8aae1d08c4430ca9e7989e0fcdc88815034882b16e6\r\n",
      "  Stored in directory: /tmp/.cache/pip/wheels/ab/09/4d/0d184230058e654eb1b04467dbc1292f00eaa186544604b471\r\n",
      "Successfully built pyspark\r\n",
      "Installing collected packages: py4j, pyspark\r\n",
      "Successfully installed py4j-0.10.7 pyspark-2.4.4\r\n"
     ]
    }
   ],
   "source": [
    "! pip install pyspark"
   ]
  },
  {
   "cell_type": "code",
   "execution_count": 2,
   "metadata": {
    "_cell_guid": "b1076dfc-b9ad-4769-8c92-a6c4dae69d19",
    "_uuid": "8f2839f25d086af736a60e9eeb907d3b93b6e0e5"
   },
   "outputs": [
    {
     "name": "stdout",
     "output_type": "stream",
     "text": [
      "/kaggle/input/house-prices-advanced-regression-techniques/test.csv\n",
      "/kaggle/input/house-prices-advanced-regression-techniques/train.csv\n",
      "/kaggle/input/house-prices-advanced-regression-techniques/data_description.txt\n",
      "/kaggle/input/house-prices-advanced-regression-techniques/sample_submission.csv\n"
     ]
    }
   ],
   "source": [
    "\n",
    "import numpy as np # linear algebra\n",
    "import pandas as pd # data processing, CSV file I/O (e.g. pd.read_csv)\n",
    "\n",
    "import os\n",
    "for dirname, _, filenames in os.walk('/kaggle/input'):\n",
    "    for filename in filenames:\n",
    "        print(os.path.join(dirname, filename))\n"
   ]
  },
  {
   "cell_type": "code",
   "execution_count": 3,
   "metadata": {
    "_cell_guid": "79c7e3d0-c299-4dcb-8224-4455121ee9b0",
    "_uuid": "d629ff2d2480ee46fbb7e2d37f6b5fab8052498a"
   },
   "outputs": [
    {
     "data": {
      "text/html": [
       "\n",
       "            <div>\n",
       "                <p><b>SparkSession - in-memory</b></p>\n",
       "                \n",
       "        <div>\n",
       "            <p><b>SparkContext</b></p>\n",
       "\n",
       "            <p><a href=\"http://6b99e1c41754:4040\">Spark UI</a></p>\n",
       "\n",
       "            <dl>\n",
       "              <dt>Version</dt>\n",
       "                <dd><code>v2.4.4</code></dd>\n",
       "              <dt>Master</dt>\n",
       "                <dd><code>local[*]</code></dd>\n",
       "              <dt>AppName</dt>\n",
       "                <dd><code>pyspark-shell</code></dd>\n",
       "            </dl>\n",
       "        </div>\n",
       "        \n",
       "            </div>\n",
       "        "
      ],
      "text/plain": [
       "<pyspark.sql.session.SparkSession at 0x7f7b83fd40b8>"
      ]
     },
     "execution_count": 3,
     "metadata": {},
     "output_type": "execute_result"
    }
   ],
   "source": [
    "from pyspark.sql import SparkSession, functions as F, DataFrame\n",
    "from pyspark.ml.feature import StringIndexer, VectorAssembler, Imputer, VectorIndexer, Bucketizer, OneHotEncoderEstimator\n",
    "from pyspark.ml.regression import LinearRegression, DecisionTreeRegressor, GeneralizedLinearRegression, RandomForestRegressor, GBTRegressor\n",
    "from pyspark.ml.pipeline import Pipeline\n",
    "from pyspark.ml.evaluation import RegressionEvaluator\n",
    "spark = SparkSession.builder.getOrCreate()\n",
    "spark"
   ]
  },
  {
   "cell_type": "code",
   "execution_count": 4,
   "metadata": {},
   "outputs": [],
   "source": [
    "import seaborn as sns\n",
    "import matplotlib.pyplot as plt\n",
    "%matplotlib inline"
   ]
  },
  {
   "cell_type": "markdown",
   "metadata": {},
   "source": [
    "# 2. Load data"
   ]
  },
  {
   "cell_type": "code",
   "execution_count": 5,
   "metadata": {},
   "outputs": [],
   "source": [
    "PATH = '/kaggle/input/house-prices-advanced-regression-techniques'\n",
    "sdf_train = spark.read.csv(f'{PATH}/train.csv', inferSchema=True, header=True)\n",
    "# 1460 rows × 81 columns\n",
    "\n",
    "sdf_test = spark.read.csv(f'{PATH}/test.csv', inferSchema=True, header=True)\n",
    "# 1459 rows × 80 columns\n",
    "\n",
    "sdf_sample_submission = spark.read.csv(f'{PATH}/sample_submission.csv', \n",
    "                                       inferSchema=True, header=True)\n",
    "col_sample_submission = ['Id','SalePrice']\n",
    "# sdf_sample_submission.toPandas()"
   ]
  },
  {
   "cell_type": "code",
   "execution_count": 6,
   "metadata": {},
   "outputs": [
    {
     "name": "stdout",
     "output_type": "stream",
     "text": [
      "root\n",
      " |-- Id: integer (nullable = true)\n",
      " |-- MSSubClass: integer (nullable = true)\n",
      " |-- MSZoning: string (nullable = true)\n",
      " |-- LotFrontage: string (nullable = true)\n",
      " |-- LotArea: integer (nullable = true)\n",
      " |-- Street: string (nullable = true)\n",
      " |-- Alley: string (nullable = true)\n",
      " |-- LotShape: string (nullable = true)\n",
      " |-- LandContour: string (nullable = true)\n",
      " |-- Utilities: string (nullable = true)\n",
      " |-- LotConfig: string (nullable = true)\n",
      " |-- LandSlope: string (nullable = true)\n",
      " |-- Neighborhood: string (nullable = true)\n",
      " |-- Condition1: string (nullable = true)\n",
      " |-- Condition2: string (nullable = true)\n",
      " |-- BldgType: string (nullable = true)\n",
      " |-- HouseStyle: string (nullable = true)\n",
      " |-- OverallQual: integer (nullable = true)\n",
      " |-- OverallCond: integer (nullable = true)\n",
      " |-- YearBuilt: integer (nullable = true)\n",
      " |-- YearRemodAdd: integer (nullable = true)\n",
      " |-- RoofStyle: string (nullable = true)\n",
      " |-- RoofMatl: string (nullable = true)\n",
      " |-- Exterior1st: string (nullable = true)\n",
      " |-- Exterior2nd: string (nullable = true)\n",
      " |-- MasVnrType: string (nullable = true)\n",
      " |-- MasVnrArea: string (nullable = true)\n",
      " |-- ExterQual: string (nullable = true)\n",
      " |-- ExterCond: string (nullable = true)\n",
      " |-- Foundation: string (nullable = true)\n",
      " |-- BsmtQual: string (nullable = true)\n",
      " |-- BsmtCond: string (nullable = true)\n",
      " |-- BsmtExposure: string (nullable = true)\n",
      " |-- BsmtFinType1: string (nullable = true)\n",
      " |-- BsmtFinSF1: integer (nullable = true)\n",
      " |-- BsmtFinType2: string (nullable = true)\n",
      " |-- BsmtFinSF2: integer (nullable = true)\n",
      " |-- BsmtUnfSF: integer (nullable = true)\n",
      " |-- TotalBsmtSF: integer (nullable = true)\n",
      " |-- Heating: string (nullable = true)\n",
      " |-- HeatingQC: string (nullable = true)\n",
      " |-- CentralAir: string (nullable = true)\n",
      " |-- Electrical: string (nullable = true)\n",
      " |-- 1stFlrSF: integer (nullable = true)\n",
      " |-- 2ndFlrSF: integer (nullable = true)\n",
      " |-- LowQualFinSF: integer (nullable = true)\n",
      " |-- GrLivArea: integer (nullable = true)\n",
      " |-- BsmtFullBath: integer (nullable = true)\n",
      " |-- BsmtHalfBath: integer (nullable = true)\n",
      " |-- FullBath: integer (nullable = true)\n",
      " |-- HalfBath: integer (nullable = true)\n",
      " |-- BedroomAbvGr: integer (nullable = true)\n",
      " |-- KitchenAbvGr: integer (nullable = true)\n",
      " |-- KitchenQual: string (nullable = true)\n",
      " |-- TotRmsAbvGrd: integer (nullable = true)\n",
      " |-- Functional: string (nullable = true)\n",
      " |-- Fireplaces: integer (nullable = true)\n",
      " |-- FireplaceQu: string (nullable = true)\n",
      " |-- GarageType: string (nullable = true)\n",
      " |-- GarageYrBlt: string (nullable = true)\n",
      " |-- GarageFinish: string (nullable = true)\n",
      " |-- GarageCars: integer (nullable = true)\n",
      " |-- GarageArea: integer (nullable = true)\n",
      " |-- GarageQual: string (nullable = true)\n",
      " |-- GarageCond: string (nullable = true)\n",
      " |-- PavedDrive: string (nullable = true)\n",
      " |-- WoodDeckSF: integer (nullable = true)\n",
      " |-- OpenPorchSF: integer (nullable = true)\n",
      " |-- EnclosedPorch: integer (nullable = true)\n",
      " |-- 3SsnPorch: integer (nullable = true)\n",
      " |-- ScreenPorch: integer (nullable = true)\n",
      " |-- PoolArea: integer (nullable = true)\n",
      " |-- PoolQC: string (nullable = true)\n",
      " |-- Fence: string (nullable = true)\n",
      " |-- MiscFeature: string (nullable = true)\n",
      " |-- MiscVal: integer (nullable = true)\n",
      " |-- MoSold: integer (nullable = true)\n",
      " |-- YrSold: integer (nullable = true)\n",
      " |-- SaleType: string (nullable = true)\n",
      " |-- SaleCondition: string (nullable = true)\n",
      " |-- SalePrice: integer (nullable = true)\n",
      "\n"
     ]
    }
   ],
   "source": [
    "pdf = sdf_train.toPandas() # limit(5).\n",
    "sdf_train.printSchema()"
   ]
  },
  {
   "cell_type": "code",
   "execution_count": 7,
   "metadata": {},
   "outputs": [
    {
     "data": {
      "text/plain": [
       "<matplotlib.axes._subplots.AxesSubplot at 0x7f7b81c19cf8>"
      ]
     },
     "execution_count": 7,
     "metadata": {},
     "output_type": "execute_result"
    },
    {
     "data": {
      "image/png": "[encoded data removed]",
      "text/plain": [
       "<Figure size 432x288 with 1 Axes>"
      ]
     },
     "metadata": {
      "needs_background": "light"
     },
     "output_type": "display_data"
    }
   ],
   "source": [
    "pdf['SalePrice'].plot.line()"
   ]
  },
  {
   "cell_type": "code",
   "execution_count": 8,
   "metadata": {},
   "outputs": [
    {
     "data": {
      "text/plain": [
       "<matplotlib.axes._subplots.AxesSubplot at 0x7f7b81b63048>"
      ]
     },
     "execution_count": 8,
     "metadata": {},
     "output_type": "execute_result"
    },
    {
     "data": {
      "image/png": "[encoded data removed]",
      "text/plain": [
       "<Figure size 432x288 with 1 Axes>"
      ]
     },
     "metadata": {
      "needs_background": "light"
     },
     "output_type": "display_data"
    }
   ],
   "source": [
    "pdf.groupby('SaleType').count().plot.bar()"
   ]
  },
  {
   "cell_type": "markdown",
   "metadata": {},
   "source": [
    "# 3. Feature selection"
   ]
  },
  {
   "cell_type": "code",
   "execution_count": 9,
   "metadata": {},
   "outputs": [
    {
     "name": "stdout",
     "output_type": "stream",
     "text": [
      "str_features : ['MSZoning', 'LotFrontage', 'Street', 'Alley', 'LotShape', 'LandContour', 'Utilities', 'LotConfig', 'LandSlope', 'Neighborhood', 'Condition1', 'Condition2', 'BldgType', 'HouseStyle', 'RoofStyle', 'RoofMatl', 'Exterior1st', 'Exterior2nd', 'MasVnrType', 'MasVnrArea', 'ExterQual', 'ExterCond', 'Foundation', 'BsmtQual', 'BsmtCond', 'BsmtExposure', 'BsmtFinType1', 'BsmtFinType2', 'Heating', 'HeatingQC', 'CentralAir', 'Electrical', 'KitchenQual', 'Functional', 'FireplaceQu', 'GarageType', 'GarageYrBlt', 'GarageFinish', 'GarageQual', 'GarageCond', 'PavedDrive', 'PoolQC', 'Fence', 'MiscFeature', 'SaleType', 'SaleCondition']\n",
      "int_features: ['Id', 'MSSubClass', 'LotArea', 'OverallQual', 'OverallCond', 'YearBuilt', 'YearRemodAdd', 'BsmtFinSF1', 'BsmtFinSF2', 'BsmtUnfSF', 'TotalBsmtSF', '1stFlrSF', '2ndFlrSF', 'LowQualFinSF', 'GrLivArea', 'BsmtFullBath', 'BsmtHalfBath', 'FullBath', 'HalfBath', 'BedroomAbvGr', 'KitchenAbvGr', 'TotRmsAbvGrd', 'Fireplaces', 'GarageCars', 'GarageArea', 'WoodDeckSF', 'OpenPorchSF', 'EnclosedPorch', '3SsnPorch', 'ScreenPorch', 'PoolArea', 'MiscVal', 'MoSold', 'YrSold', 'SalePrice']\n"
     ]
    }
   ],
   "source": [
    "str_features = [] \n",
    "int_features = []\n",
    "for col in  sdf_train.dtypes:\n",
    "    if col[1] == 'string':\n",
    "        str_features += [col[0]]\n",
    "    else:\n",
    "        int_features += [col[0]]\n",
    "#     print(col)\n",
    "print(f'str_features : {str_features}')\n",
    "print(f'int_features: {int_features}')\n",
    "# print(features)\n",
    "sdf_train_filter = sdf_train.select(int_features + str_features)\n",
    "int_features.remove('SalePrice')\n",
    "sdf_test_filter = sdf_test.select(int_features + str_features)"
   ]
  },
  {
   "cell_type": "code",
   "execution_count": 10,
   "metadata": {},
   "outputs": [],
   "source": [
    "# sdf_train.select(str_features).limit(5).toPandas().T"
   ]
  },
  {
   "cell_type": "code",
   "execution_count": 11,
   "metadata": {},
   "outputs": [],
   "source": [
    "# sdf_test_filter.printSchema()\n",
    "def _cast_to_int(_sdf: DataFrame,col_list: list) -> DataFrame:\n",
    "    for col in col_list:\n",
    "        _sdf = _sdf.withColumn(col, _sdf[col].cast('int'))\n",
    "    return _sdf\n",
    "\n",
    "sdf_test_typecast = _cast_to_int(sdf_test_filter, \n",
    "                                int_features)"
   ]
  },
  {
   "cell_type": "code",
   "execution_count": 12,
   "metadata": {},
   "outputs": [],
   "source": [
    "# sdf_test.select([F.count(F.when(sdf_test[c] == 0 ,c )).alias(c) for c in int_features]).toPandas().T\n",
    "# sdf_test_typecast.printSchema()"
   ]
  },
  {
   "cell_type": "markdown",
   "metadata": {},
   "source": [
    "Ref:\n",
    "https://www.kaggle.com/jesucristo/1-house-prices-solution-top-1#Models\n"
   ]
  },
  {
   "cell_type": "raw",
   "metadata": {},
   "source": []
  },
  {
   "cell_type": "markdown",
   "metadata": {},
   "source": [
    "## String features\n"
   ]
  },
  {
   "cell_type": "code",
   "execution_count": null,
   "metadata": {},
   "outputs": [],
   "source": []
  },
  {
   "cell_type": "markdown",
   "metadata": {},
   "source": [
    "# 4. Model selection and Pipeline building"
   ]
  },
  {
   "cell_type": "code",
   "execution_count": 13,
   "metadata": {},
   "outputs": [],
   "source": [
    "_stages = []\n",
    "# Imputer not needed as no missing features\n",
    "# null_impute = Imputer(inputCols= int_features, outputCols=int_features) \n",
    "# _stages += [null_impute]\n",
    "\n",
    "str_indexer = [StringIndexer(inputCol=column,\n",
    "                           outputCol=f'{column}_StringIndexer',\n",
    "                            handleInvalid='keep') \n",
    "               for column in str_features]\n",
    "_stages += str_indexer\n",
    "\n",
    "assembler_input = [f for f in int_features] \n",
    "assembler_input += [f'{column}_StringIndexer' \n",
    "                    for column  in str_features] \n",
    "feature_vector = VectorAssembler(inputCols=assembler_input, \n",
    "                                 outputCol='features', \n",
    "                                 handleInvalid = 'keep' )\n",
    "_stages += [feature_vector]\n",
    "\n",
    "\n",
    "vect_indexer = VectorIndexer(inputCol='features', \n",
    "                             outputCol= 'features_indexed', \n",
    "                             handleInvalid = 'keep' )\n",
    "_stages += [vect_indexer]\n",
    "\n",
    "LR = LinearRegression(featuresCol='features_indexed', \n",
    "                      labelCol= 'SalePrice',\n",
    "                     maxIter=10,\n",
    "                     regParam=0.3,\n",
    "                     elasticNetParam=0.8)\n",
    "_stages += [LR]\n",
    "\n",
    "# DTR = DecisionTreeRegressor(featuresCol='features_indexed', labelCol= 'SalePrice') #0.223\n",
    "# _stages += [DTR]\n",
    "\n",
    "# GLR = GeneralizedLinearRegression(family='guissian',link= 'identity', maxIter=10, regParam=0.3)\n",
    "# _stages += [GLR]\n",
    "# IllegalArgumentException: 'GeneralizedLinearRegression_b8172476d09e parameter family given invalid value guissian.'\n",
    "\n",
    "# RFR = RandomForestRegressor(featuresCol='features_indexed', labelCol='SalePrice') #0.18353\n",
    "# _stages += [RFR]\n",
    "\n",
    "\n",
    "# GBTR = GBTRegressor(featuresCol='features_indexed', labelCol='SalePrice', maxIter =10) #0.19474\n",
    "# _stages += [GBTR]\n",
    "# _stages"
   ]
  },
  {
   "cell_type": "markdown",
   "metadata": {},
   "source": [
    "# 5. Start predicting, run Pipeline"
   ]
  },
  {
   "cell_type": "code",
   "execution_count": 14,
   "metadata": {},
   "outputs": [],
   "source": [
    "ml_pipeline = Pipeline(stages=_stages)\n",
    "model = ml_pipeline.fit(sdf_train_filter)\n"
   ]
  },
  {
   "cell_type": "code",
   "execution_count": 15,
   "metadata": {},
   "outputs": [],
   "source": [
    "sdf_predict = model.transform(sdf_test_typecast)"
   ]
  },
  {
   "cell_type": "code",
   "execution_count": 16,
   "metadata": {},
   "outputs": [
    {
     "data": {
      "text/html": [
       "<div>\n",
       "<style scoped>\n",
       "    .dataframe tbody tr th:only-of-type {\n",
       "        vertical-align: middle;\n",
       "    }\n",
       "\n",
       "    .dataframe tbody tr th {\n",
       "        vertical-align: top;\n",
       "    }\n",
       "\n",
       "    .dataframe thead th {\n",
       "        text-align: right;\n",
       "    }\n",
       "</style>\n",
       "<table border=\"1\" class=\"dataframe\">\n",
       "  <thead>\n",
       "    <tr style=\"text-align: right;\">\n",
       "      <th></th>\n",
       "      <th>0</th>\n",
       "      <th>1</th>\n",
       "      <th>2</th>\n",
       "      <th>3</th>\n",
       "      <th>4</th>\n",
       "    </tr>\n",
       "  </thead>\n",
       "  <tbody>\n",
       "    <tr>\n",
       "      <td>Id</td>\n",
       "      <td>1461</td>\n",
       "      <td>1462</td>\n",
       "      <td>1463</td>\n",
       "      <td>1464</td>\n",
       "      <td>1465</td>\n",
       "    </tr>\n",
       "    <tr>\n",
       "      <td>MSSubClass</td>\n",
       "      <td>20</td>\n",
       "      <td>20</td>\n",
       "      <td>60</td>\n",
       "      <td>60</td>\n",
       "      <td>120</td>\n",
       "    </tr>\n",
       "    <tr>\n",
       "      <td>LotArea</td>\n",
       "      <td>11622</td>\n",
       "      <td>14267</td>\n",
       "      <td>13830</td>\n",
       "      <td>9978</td>\n",
       "      <td>5005</td>\n",
       "    </tr>\n",
       "    <tr>\n",
       "      <td>OverallQual</td>\n",
       "      <td>5</td>\n",
       "      <td>6</td>\n",
       "      <td>5</td>\n",
       "      <td>6</td>\n",
       "      <td>8</td>\n",
       "    </tr>\n",
       "    <tr>\n",
       "      <td>OverallCond</td>\n",
       "      <td>6</td>\n",
       "      <td>6</td>\n",
       "      <td>5</td>\n",
       "      <td>6</td>\n",
       "      <td>5</td>\n",
       "    </tr>\n",
       "    <tr>\n",
       "      <td>...</td>\n",
       "      <td>...</td>\n",
       "      <td>...</td>\n",
       "      <td>...</td>\n",
       "      <td>...</td>\n",
       "      <td>...</td>\n",
       "    </tr>\n",
       "    <tr>\n",
       "      <td>SaleType_StringIndexer</td>\n",
       "      <td>0</td>\n",
       "      <td>0</td>\n",
       "      <td>0</td>\n",
       "      <td>0</td>\n",
       "      <td>0</td>\n",
       "    </tr>\n",
       "    <tr>\n",
       "      <td>SaleCondition_StringIndexer</td>\n",
       "      <td>0</td>\n",
       "      <td>0</td>\n",
       "      <td>0</td>\n",
       "      <td>0</td>\n",
       "      <td>0</td>\n",
       "    </tr>\n",
       "    <tr>\n",
       "      <td>features</td>\n",
       "      <td>(1461.0, 20.0, 11622.0, 5.0, 6.0, 1961.0, 1961...</td>\n",
       "      <td>(1462.0, 20.0, 14267.0, 6.0, 6.0, 1958.0, 1958...</td>\n",
       "      <td>(1463.0, 60.0, 13830.0, 5.0, 5.0, 1997.0, 1998...</td>\n",
       "      <td>(1464.0, 60.0, 9978.0, 6.0, 6.0, 1998.0, 1998....</td>\n",
       "      <td>(1465.0, 120.0, 5005.0, 8.0, 5.0, 1992.0, 1992...</td>\n",
       "    </tr>\n",
       "    <tr>\n",
       "      <td>features_indexed</td>\n",
       "      <td>(1461.0, 0.0, 11622.0, 4.0, 5.0, 1961.0, 1961....</td>\n",
       "      <td>(1462.0, 0.0, 14267.0, 5.0, 5.0, 1958.0, 1958....</td>\n",
       "      <td>(1463.0, 5.0, 13830.0, 4.0, 4.0, 1997.0, 1998....</td>\n",
       "      <td>(1464.0, 5.0, 9978.0, 5.0, 5.0, 1998.0, 1998.0...</td>\n",
       "      <td>(1465.0, 11.0, 5005.0, 7.0, 4.0, 1992.0, 1992....</td>\n",
       "    </tr>\n",
       "    <tr>\n",
       "      <td>prediction</td>\n",
       "      <td>102595</td>\n",
       "      <td>172521</td>\n",
       "      <td>165347</td>\n",
       "      <td>192386</td>\n",
       "      <td>201362</td>\n",
       "    </tr>\n",
       "  </tbody>\n",
       "</table>\n",
       "<p>129 rows × 5 columns</p>\n",
       "</div>"
      ],
      "text/plain": [
       "                                                                             0  \\\n",
       "Id                                                                        1461   \n",
       "MSSubClass                                                                  20   \n",
       "LotArea                                                                  11622   \n",
       "OverallQual                                                                  5   \n",
       "OverallCond                                                                  6   \n",
       "...                                                                        ...   \n",
       "SaleType_StringIndexer                                                       0   \n",
       "SaleCondition_StringIndexer                                                  0   \n",
       "features                     (1461.0, 20.0, 11622.0, 5.0, 6.0, 1961.0, 1961...   \n",
       "features_indexed             (1461.0, 0.0, 11622.0, 4.0, 5.0, 1961.0, 1961....   \n",
       "prediction                                                              102595   \n",
       "\n",
       "                                                                             1  \\\n",
       "Id                                                                        1462   \n",
       "MSSubClass                                                                  20   \n",
       "LotArea                                                                  14267   \n",
       "OverallQual                                                                  6   \n",
       "OverallCond                                                                  6   \n",
       "...                                                                        ...   \n",
       "SaleType_StringIndexer                                                       0   \n",
       "SaleCondition_StringIndexer                                                  0   \n",
       "features                     (1462.0, 20.0, 14267.0, 6.0, 6.0, 1958.0, 1958...   \n",
       "features_indexed             (1462.0, 0.0, 14267.0, 5.0, 5.0, 1958.0, 1958....   \n",
       "prediction                                                              172521   \n",
       "\n",
       "                                                                             2  \\\n",
       "Id                                                                        1463   \n",
       "MSSubClass                                                                  60   \n",
       "LotArea                                                                  13830   \n",
       "OverallQual                                                                  5   \n",
       "OverallCond                                                                  5   \n",
       "...                                                                        ...   \n",
       "SaleType_StringIndexer                                                       0   \n",
       "SaleCondition_StringIndexer                                                  0   \n",
       "features                     (1463.0, 60.0, 13830.0, 5.0, 5.0, 1997.0, 1998...   \n",
       "features_indexed             (1463.0, 5.0, 13830.0, 4.0, 4.0, 1997.0, 1998....   \n",
       "prediction                                                              165347   \n",
       "\n",
       "                                                                             3  \\\n",
       "Id                                                                        1464   \n",
       "MSSubClass                                                                  60   \n",
       "LotArea                                                                   9978   \n",
       "OverallQual                                                                  6   \n",
       "OverallCond                                                                  6   \n",
       "...                                                                        ...   \n",
       "SaleType_StringIndexer                                                       0   \n",
       "SaleCondition_StringIndexer                                                  0   \n",
       "features                     (1464.0, 60.0, 9978.0, 6.0, 6.0, 1998.0, 1998....   \n",
       "features_indexed             (1464.0, 5.0, 9978.0, 5.0, 5.0, 1998.0, 1998.0...   \n",
       "prediction                                                              192386   \n",
       "\n",
       "                                                                             4  \n",
       "Id                                                                        1465  \n",
       "MSSubClass                                                                 120  \n",
       "LotArea                                                                   5005  \n",
       "OverallQual                                                                  8  \n",
       "OverallCond                                                                  5  \n",
       "...                                                                        ...  \n",
       "SaleType_StringIndexer                                                       0  \n",
       "SaleCondition_StringIndexer                                                  0  \n",
       "features                     (1465.0, 120.0, 5005.0, 8.0, 5.0, 1992.0, 1992...  \n",
       "features_indexed             (1465.0, 11.0, 5005.0, 7.0, 4.0, 1992.0, 1992....  \n",
       "prediction                                                              201362  \n",
       "\n",
       "[129 rows x 5 columns]"
      ]
     },
     "execution_count": 16,
     "metadata": {},
     "output_type": "execute_result"
    }
   ],
   "source": [
    "sdf_predict.limit(5).toPandas().T"
   ]
  },
  {
   "cell_type": "markdown",
   "metadata": {},
   "source": [
    "# 6. Prepare submission file"
   ]
  },
  {
   "cell_type": "code",
   "execution_count": 17,
   "metadata": {},
   "outputs": [
    {
     "name": "stdout",
     "output_type": "stream",
     "text": [
      "['.part-00000-f132ba0f-0590-416e-b429-fd6387d7f36d-c000.csv.crc', '_SUCCESS', '._SUCCESS.crc', 'part-00000-f132ba0f-0590-416e-b429-fd6387d7f36d-c000.csv']\n"
     ]
    }
   ],
   "source": [
    "\n",
    "sdf_predict.withColumnRenamed('prediction','SalePrice')\\\n",
    "            .select('Id','SalePrice')\\\n",
    "            .coalesce(1)\\\n",
    "            .write.csv('submission',mode='overwrite',header=True)\n",
    "print(os.listdir('submission'))"
   ]
  },
  {
   "cell_type": "markdown",
   "metadata": {},
   "source": [
    "<a href='submission/part-00000-c1528d69-7c6f-4916-b7a0-37f7c2e5a703-c000.csv'>submission</a>"
   ]
  }
 ],
 "metadata": {
  "kernelspec": {
   "display_name": "Python 3",
   "language": "python",
   "name": "python3"
  },
  "language_info": {
   "codemirror_mode": {
    "name": "ipython",
    "version": 3
   },
   "file_extension": ".py",
   "mimetype": "text/x-python",
   "name": "python",
   "nbconvert_exporter": "python",
   "pygments_lexer": "ipython3",
   "version": "3.7.3"
  }
 },
 "nbformat": 4,
 "nbformat_minor": 1
}
