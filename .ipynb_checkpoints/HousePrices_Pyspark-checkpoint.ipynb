{
 "cells": [
  {
   "cell_type": "markdown",
   "metadata": {},
   "source": [
    "### Import Libs"
   ]
  },
  {
   "cell_type": "code",
   "execution_count": 81,
   "metadata": {},
   "outputs": [],
   "source": [
    "from pyspark.sql import SparkSession, functions as F, DataFrame\n",
    "import pyspark.sql.functions as F\n",
    "from pyspark.sql.functions import lit\n",
    "from pyspark.sql.functions import isnan, when, count, col\n",
    "from pyspark.sql import types \n",
    "import pyspark.sql.types as T\n",
    "from pyspark.sql.functions import desc\n",
    "spark = SparkSession.builder.getOrCreate()"
   ]
  },
  {
   "cell_type": "markdown",
   "metadata": {},
   "source": [
    "### Load Data"
   ]
  },
  {
   "cell_type": "code",
   "execution_count": 82,
   "metadata": {},
   "outputs": [
    {
     "name": "stdout",
     "output_type": "stream",
     "text": [
      "Shape of sprkdf_train (1460, 81)\n",
      "Shape of sprkdf_test (1459, 80)\n"
     ]
    }
   ],
   "source": [
    "sprkdf_train = spark.read.csv('train.csv', inferSchema=True, header=True)\n",
    "sprkdf_test = spark.read.csv('test.csv', inferSchema=True, header=True)\n",
    "print(\"Shape of sprkdf_train\",(sprkdf_train.count(), len(sprkdf_train.columns)))\n",
    "print(\"Shape of sprkdf_test\",(sprkdf_test.count(), len(sprkdf_test.columns)))"
   ]
  },
  {
   "cell_type": "markdown",
   "metadata": {},
   "source": [
    "### Null Values"
   ]
  },
  {
   "cell_type": "code",
   "execution_count": 83,
   "metadata": {},
   "outputs": [
    {
     "data": {
      "text/plain": [
       "DataFrame[Id: bigint, MSSubClass: bigint, MSZoning: bigint, LotFrontage: bigint, LotArea: bigint, Street: bigint, Alley: bigint, LotShape: bigint, LandContour: bigint, Utilities: bigint, LotConfig: bigint, LandSlope: bigint, Neighborhood: bigint, Condition1: bigint, Condition2: bigint, BldgType: bigint, HouseStyle: bigint, OverallQual: bigint, OverallCond: bigint, YearBuilt: bigint, YearRemodAdd: bigint, RoofStyle: bigint, RoofMatl: bigint, Exterior1st: bigint, Exterior2nd: bigint, MasVnrType: bigint, MasVnrArea: bigint, ExterQual: bigint, ExterCond: bigint, Foundation: bigint, BsmtQual: bigint, BsmtCond: bigint, BsmtExposure: bigint, BsmtFinType1: bigint, BsmtFinSF1: bigint, BsmtFinType2: bigint, BsmtFinSF2: bigint, BsmtUnfSF: bigint, TotalBsmtSF: bigint, Heating: bigint, HeatingQC: bigint, CentralAir: bigint, Electrical: bigint, 1stFlrSF: bigint, 2ndFlrSF: bigint, LowQualFinSF: bigint, GrLivArea: bigint, BsmtFullBath: bigint, BsmtHalfBath: bigint, FullBath: bigint, HalfBath: bigint, BedroomAbvGr: bigint, KitchenAbvGr: bigint, KitchenQual: bigint, TotRmsAbvGrd: bigint, Functional: bigint, Fireplaces: bigint, FireplaceQu: bigint, GarageType: bigint, GarageYrBlt: bigint, GarageFinish: bigint, GarageCars: bigint, GarageArea: bigint, GarageQual: bigint, GarageCond: bigint, PavedDrive: bigint, WoodDeckSF: bigint, OpenPorchSF: bigint, EnclosedPorch: bigint, 3SsnPorch: bigint, ScreenPorch: bigint, PoolArea: bigint, PoolQC: bigint, Fence: bigint, MiscFeature: bigint, MiscVal: bigint, MoSold: bigint, YrSold: bigint, SaleType: bigint, SaleCondition: bigint, SalePrice: bigint]"
      ]
     },
     "execution_count": 83,
     "metadata": {},
     "output_type": "execute_result"
    }
   ],
   "source": [
    "# Union df for transformation\n",
    "sprkdf_test = sprkdf_test.withColumn('SalePrice', lit(-1))\n",
    "sprkdf_concat = sprkdf_train.union(sprkdf_test)\n",
    "\n",
    "# Count Null values\n",
    "sprkdf_concat.select([F.count(F.when(F.isnan(i) | \\\n",
    "                                   F.col(i).contains('NA') | \\\n",
    "                                   F.col(i).contains('NULL') | \\\n",
    "                                   F.col(i).isNull(), i)).alias(i) \\\n",
    "                    for i in sprkdf_concat.columns])"
   ]
  },
  {
   "cell_type": "markdown",
   "metadata": {},
   "source": [
    "### Drop Columns"
   ]
  },
  {
   "cell_type": "code",
   "execution_count": 84,
   "metadata": {},
   "outputs": [],
   "source": [
    "\n",
    "Columns_to_drop = ['Utilities', 'RoofMatl', 'MasVnrArea', 'BsmtFinSF1', 'BsmtFinSF2', 'BsmtUnfSF', 'Heating', 'LowQualFinSF',\n",
    "               'BsmtFullBath', 'BsmtHalfBath', 'Functional', 'GarageYrBlt', 'GarageArea', 'GarageCond', 'WoodDeckSF',\n",
    "               'OpenPorchSF', 'EnclosedPorch', '3SsnPorch', 'ScreenPorch', 'PoolArea', 'PoolQC', 'Fence', 'MiscFeature', 'MiscVal']\n",
    "\n",
    "sprkdf_concat = sprkdf_concat.drop(*Columns_to_drop)\n",
    "# print(\"Shape of sprkdf_concat\",(sprkdf_concat.count(), len(sprkdf_concat.columns)))"
   ]
  },
  {
   "cell_type": "markdown",
   "metadata": {},
   "source": [
    "### FillNa & Converting"
   ]
  },
  {
   "cell_type": "code",
   "execution_count": 109,
   "metadata": {},
   "outputs": [
    {
     "name": "stdout",
     "output_type": "stream",
     "text": [
      "RL\n"
     ]
    },
    {
     "ename": "AttributeError",
     "evalue": "'str' object has no attribute 'alias'",
     "output_type": "error",
     "traceback": [
      "\u001b[0;31m---------------------------------------------------------------------------\u001b[0m",
      "\u001b[0;31mAttributeError\u001b[0m                            Traceback (most recent call last)",
      "\u001b[0;32m<ipython-input-109-8065ab36633a>\u001b[0m in \u001b[0;36m<module>\u001b[0;34m\u001b[0m\n\u001b[1;32m      7\u001b[0m \u001b[0mprint\u001b[0m\u001b[0;34m(\u001b[0m\u001b[0ma\u001b[0m\u001b[0;34m)\u001b[0m\u001b[0;34m\u001b[0m\u001b[0;34m\u001b[0m\u001b[0m\n\u001b[1;32m      8\u001b[0m mode = cnts.join(\n\u001b[0;32m----> 9\u001b[0;31m     \u001b[0mcnts\u001b[0m\u001b[0;34m.\u001b[0m\u001b[0magg\u001b[0m\u001b[0;34m(\u001b[0m\u001b[0mmax\u001b[0m\u001b[0;34m(\u001b[0m\u001b[0;34m\"count\"\u001b[0m\u001b[0;34m)\u001b[0m\u001b[0;34m.\u001b[0m\u001b[0malias\u001b[0m\u001b[0;34m(\u001b[0m\u001b[0;34m\"max_\"\u001b[0m\u001b[0;34m)\u001b[0m\u001b[0;34m)\u001b[0m\u001b[0;34m,\u001b[0m \u001b[0mcol\u001b[0m\u001b[0;34m(\u001b[0m\u001b[0;34m\"count\"\u001b[0m\u001b[0;34m)\u001b[0m \u001b[0;34m==\u001b[0m \u001b[0mcol\u001b[0m\u001b[0;34m(\u001b[0m\u001b[0;34m\"max_\"\u001b[0m\u001b[0;34m)\u001b[0m\u001b[0;34m\u001b[0m\u001b[0;34m\u001b[0m\u001b[0m\n\u001b[0m\u001b[1;32m     10\u001b[0m ).limit(1).select(\"MSZoning\")\n\u001b[1;32m     11\u001b[0m \u001b[0;31m# features['MSZoning'] = features['MSZoning'].fillna(features['MSZoning'].mode()[0])\u001b[0m\u001b[0;34m\u001b[0m\u001b[0;34m\u001b[0m\u001b[0;34m\u001b[0m\u001b[0m\n",
      "\u001b[0;31mAttributeError\u001b[0m: 'str' object has no attribute 'alias'"
     ]
    }
   ],
   "source": [
    "# MSSubClass as str\n",
    "sprkdf_concat = sprkdf_concat.withColumn('MSSubClass', col('MSSubClass').cast('string'))\n",
    "\n",
    "# MSZoning NA in pred. filling with most popular values\n",
    "cnts = sprkdf_concat.groupBy(\"MSZoning\").count().sort(desc(\"count\"))\n",
    "mode = cnts.select(\"MSZoning\").limit(1).collect()[0][0]\n",
    "\n",
    "\n",
    "# features['MSZoning'] = features['MSZoning'].fillna(features['MSZoning'].mode()[0])\n"
   ]
  },
  {
   "cell_type": "code",
   "execution_count": null,
   "metadata": {},
   "outputs": [],
   "source": []
  }
 ],
 "metadata": {
  "kernelspec": {
   "display_name": "Python 3",
   "language": "python",
   "name": "python3"
  },
  "language_info": {
   "codemirror_mode": {
    "name": "ipython",
    "version": 3
   },
   "file_extension": ".py",
   "mimetype": "text/x-python",
   "name": "python",
   "nbconvert_exporter": "python",
   "pygments_lexer": "ipython3",
   "version": "3.7.3"
  }
 },
 "nbformat": 4,
 "nbformat_minor": 2
}
