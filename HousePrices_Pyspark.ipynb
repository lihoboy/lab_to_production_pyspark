{
 "cells": [
  {
   "cell_type": "markdown",
   "metadata": {},
   "source": [
    "### Import Libs"
   ]
  },
  {
   "cell_type": "code",
   "execution_count": 15,
   "metadata": {},
   "outputs": [],
   "source": [
    "from pyspark.sql import SparkSession, functions as F, DataFrame\n",
    "import pyspark.sql.functions as F\n",
    "from pyspark.sql.functions import lit\n",
    "from pyspark.sql.functions import isnan, when, count, col\n",
    "from pyspark.sql import types \n",
    "from pyspark.sql.functions import when\n",
    "from pyspark.sql.functions import mean as _mean, stddev as _stddev, col\n",
    "import pyspark.sql.types as T\n",
    "from pyspark.sql.functions import desc\n",
    "spark = SparkSession.builder.getOrCreate()"
   ]
  },
  {
   "cell_type": "markdown",
   "metadata": {},
   "source": [
    "### Load Data"
   ]
  },
  {
   "cell_type": "code",
   "execution_count": 16,
   "metadata": {},
   "outputs": [
    {
     "name": "stdout",
     "output_type": "stream",
     "text": [
      "Shape of sprkdf_train (1460, 81)\n",
      "Shape of sprkdf_test (1459, 80)\n"
     ]
    }
   ],
   "source": [
    "sprkdf_train = spark.read.csv('train.csv', inferSchema=True, header=True)\n",
    "sprkdf_test = spark.read.csv('test.csv', inferSchema=True, header=True)\n",
    "print(\"Shape of sprkdf_train\",(sprkdf_train.count(), len(sprkdf_train.columns)))\n",
    "print(\"Shape of sprkdf_test\",(sprkdf_test.count(), len(sprkdf_test.columns)))"
   ]
  },
  {
   "cell_type": "markdown",
   "metadata": {},
   "source": [
    "### Null Values"
   ]
  },
  {
   "cell_type": "code",
   "execution_count": 17,
   "metadata": {},
   "outputs": [
    {
     "name": "stdout",
     "output_type": "stream",
     "text": [
      "+---+----------+--------+-----------+-------+------+-----+--------+-----------+---------+---------+---------+------------+----------+----------+--------+----------+-----------+-----------+---------+------------+---------+--------+-----------+-----------+----------+----------+---------+---------+----------+--------+--------+------------+------------+----------+------------+----------+---------+-----------+-------+---------+----------+----------+--------+--------+------------+---------+------------+------------+--------+--------+------------+------------+-----------+------------+----------+----------+-----------+----------+-----------+------------+----------+----------+----------+----------+----------+----------+-----------+-------------+---------+-----------+--------+------+-----+-----------+-------+------+------+--------+-------------+---------+\n",
      "| Id|MSSubClass|MSZoning|LotFrontage|LotArea|Street|Alley|LotShape|LandContour|Utilities|LotConfig|LandSlope|Neighborhood|Condition1|Condition2|BldgType|HouseStyle|OverallQual|OverallCond|YearBuilt|YearRemodAdd|RoofStyle|RoofMatl|Exterior1st|Exterior2nd|MasVnrType|MasVnrArea|ExterQual|ExterCond|Foundation|BsmtQual|BsmtCond|BsmtExposure|BsmtFinType1|BsmtFinSF1|BsmtFinType2|BsmtFinSF2|BsmtUnfSF|TotalBsmtSF|Heating|HeatingQC|CentralAir|Electrical|1stFlrSF|2ndFlrSF|LowQualFinSF|GrLivArea|BsmtFullBath|BsmtHalfBath|FullBath|HalfBath|BedroomAbvGr|KitchenAbvGr|KitchenQual|TotRmsAbvGrd|Functional|Fireplaces|FireplaceQu|GarageType|GarageYrBlt|GarageFinish|GarageCars|GarageArea|GarageQual|GarageCond|PavedDrive|WoodDeckSF|OpenPorchSF|EnclosedPorch|3SsnPorch|ScreenPorch|PoolArea|PoolQC|Fence|MiscFeature|MiscVal|MoSold|YrSold|SaleType|SaleCondition|SalePrice|\n",
      "+---+----------+--------+-----------+-------+------+-----+--------+-----------+---------+---------+---------+------------+----------+----------+--------+----------+-----------+-----------+---------+------------+---------+--------+-----------+-----------+----------+----------+---------+---------+----------+--------+--------+------------+------------+----------+------------+----------+---------+-----------+-------+---------+----------+----------+--------+--------+------------+---------+------------+------------+--------+--------+------------+------------+-----------+------------+----------+----------+-----------+----------+-----------+------------+----------+----------+----------+----------+----------+----------+-----------+-------------+---------+-----------+--------+------+-----+-----------+-------+------+------+--------+-------------+---------+\n",
      "|  0|         0|       4|        486|      0|     0| 2721|       0|          0|        2|        0|        0|         443|         0|         0|       0|         0|          0|          0|        0|           0|        0|       0|          1|          1|        24|        23|        0|        0|         0|      81|      82|          82|          79|         1|          80|         1|        1|          1|      0|        0|         0|         1|       0|       0|           0|        0|           2|           2|       0|       0|           0|           0|          1|           0|         2|         0|       1420|       157|        159|         159|         1|         1|       159|       159|         0|         0|          0|            0|        0|          0|       0|  2909| 2348|       2814|      0|     0|     0|       1|            0|        0|\n",
      "+---+----------+--------+-----------+-------+------+-----+--------+-----------+---------+---------+---------+------------+----------+----------+--------+----------+-----------+-----------+---------+------------+---------+--------+-----------+-----------+----------+----------+---------+---------+----------+--------+--------+------------+------------+----------+------------+----------+---------+-----------+-------+---------+----------+----------+--------+--------+------------+---------+------------+------------+--------+--------+------------+------------+-----------+------------+----------+----------+-----------+----------+-----------+------------+----------+----------+----------+----------+----------+----------+-----------+-------------+---------+-----------+--------+------+-----+-----------+-------+------+------+--------+-------------+---------+\n",
      "\n"
     ]
    }
   ],
   "source": [
    "# Union df for transformation\n",
    "sprkdf_test = sprkdf_test.withColumn('SalePrice', lit(-1))\n",
    "sprkdf_concat = sprkdf_train.union(sprkdf_test)\n",
    "\n",
    "# Count Null values\n",
    "sprkdf_concat.select([F.count(F.when(F.isnan(i) | \\\n",
    "                                   F.col(i).contains('NA') | \\\n",
    "                                   F.col(i).contains('NULL') | \\\n",
    "                                   F.col(i).isNull(), i)).alias(i) \\\n",
    "                    for i in sprkdf_concat.columns]).show()\n"
   ]
  },
  {
   "cell_type": "markdown",
   "metadata": {},
   "source": [
    "### Drop Columns"
   ]
  },
  {
   "cell_type": "code",
   "execution_count": 18,
   "metadata": {},
   "outputs": [],
   "source": [
    "\n",
    "Columns_to_drop = ['Utilities', 'RoofMatl', 'MasVnrArea', 'BsmtFinSF1', 'BsmtFinSF2', 'BsmtUnfSF', 'Heating', 'LowQualFinSF',\n",
    "               'BsmtFullBath', 'BsmtHalfBath', 'Functional', 'GarageYrBlt', 'GarageArea', 'GarageCond', 'WoodDeckSF',\n",
    "               'OpenPorchSF', 'EnclosedPorch', '3SsnPorch', 'ScreenPorch', 'PoolArea', 'PoolQC', 'Fence', 'MiscFeature', 'MiscVal']\n",
    "\n",
    "sprkdf_concat = sprkdf_concat.drop(*Columns_to_drop)\n",
    "# print(\"Shape of sprkdf_concat\",(sprkdf_concat.count(), len(sprkdf_concat.columns)))"
   ]
  },
  {
   "cell_type": "markdown",
   "metadata": {},
   "source": [
    "### FillNa & Converting"
   ]
  },
  {
   "cell_type": "code",
   "execution_count": 21,
   "metadata": {},
   "outputs": [
    {
     "name": "stdout",
     "output_type": "stream",
     "text": [
      "+--------+-----+\n",
      "|MSZoning|count|\n",
      "+--------+-----+\n",
      "|      RL| 2269|\n",
      "|      RM|  460|\n",
      "|      FV|  139|\n",
      "|      RH|   26|\n",
      "| C (all)|   25|\n",
      "+--------+-----+\n",
      "\n",
      "+--------+-----+\n",
      "|MSZoning|count|\n",
      "+--------+-----+\n",
      "|      RL| 2269|\n",
      "|      RM|  460|\n",
      "|      FV|  139|\n",
      "|      RH|   26|\n",
      "| C (all)|   25|\n",
      "+--------+-----+\n",
      "\n"
     ]
    }
   ],
   "source": [
    "# MSSubClass as str\n",
    "sprkdf_concat = sprkdf_concat.withColumn('MSSubClass', col('MSSubClass').cast('string'))\n",
    "\n",
    "# MSZoning NA in pred. filling with most popular values\n",
    "cnts = sprkdf_concat.groupBy(\"MSZoning\").count().sort(desc(\"count\"))\n",
    "sprkdf_concat.groupBy(\"MSZoning\").count().sort(desc(\"count\")).show()\n",
    "mode = cnts.select(\"MSZoning\").limit(1).collect()[0][0]\n",
    "sprkdf_concat = sprkdf_concat.withColumn(\"MSZoning\", when(sprkdf_concat[\"MSZoning\"] == 'NA', mode).otherwise(sprkdf_concat[\"MSZoning\"]))\n",
    "sprkdf_concat.groupBy(\"MSZoning\").count().sort(desc(\"count\")).show()\n",
    "\n",
    "# LotFrontage  NA in all. I suppose NA means 0\n",
    "# sprkdf_concat.groupBy(\"LotFrontage\").count().sort(desc(\"count\")).show()\n",
    "mean_value = sprkdf_concat.select(_mean(\"LotFrontage\").alias('mean')).collect()[0]['mean']\n",
    "sprkdf_concat = sprkdf_concat.withColumn(\"LotFrontage\", when(sprkdf_concat[\"LotFrontage\"] == 'NA', mean_value).otherwise(sprkdf_concat[\"LotFrontage\"]))\n",
    "# sprkdf_concat.groupBy(\"LotFrontage\").count().sort(desc(\"count\")).show()\n",
    "\n",
    "# Alley  NA in all. NA means no access\n",
    "# features['Alley'] = features['Alley'].fillna('NOACCESS')\n",
    "sprkdf_concat = sprkdf_concat.withColumn('Alley', when(sprkdf_concat['Alley'] == 'NA', 'NOACCESS').otherwise(sprkdf_concat['Alley']))\n",
    "\n",
    "# Converting OverallCond to str\n",
    "# sprkdf_concat.describe([\"OverallCond\"]).show()\n",
    "from pyspark.sql.types import StructField,IntegerType, StructType,StringType\n",
    "sprkdf_concat = sprkdf_concat.withColumn(\"OverallCond\", col(\"OverallCond\").cast(StringType()) )\n",
    "# sprkdf_concat.describe([\"OverallCond\"]).show()\n",
    "# sprkdf_concat.describe([\"OverallCond\", \"MSZoning\", 'MSSubClass'], ).show()\n",
    "# sprkdf_concat.schema\n",
    "\n",
    "# MasVnrType NA in all. filling with most popular values\n",
    "# features['MasVnrType'] = features['MasVnrType'].fillna(features['MasVnrType'].mode()[0])\n",
    "cnts = sprkdf_concat.where(sprkdf_concat['MasVnrType'] != 'None').groupBy('MasVnrType').count().sort(desc(\"count\"))\n",
    "mode = cnts.select('MasVnrType').limit(1).collect()[0][0]\n",
    "sprkdf_concat = sprkdf_concat.withColumn('MasVnrType', when(sprkdf_concat['MasVnrType'] == 'None', mode).otherwise(sprkdf_concat['MasVnrType']))\n",
    "\n"
   ]
  },
  {
   "cell_type": "code",
   "execution_count": 7,
   "metadata": {},
   "outputs": [],
   "source": [
    "# BsmtQual, BsmtCond, BsmtExposure, BsmtFinType1, BsmtFinType2\n",
    "# NA in all. NA means No basement\n",
    "for col_name in ('BsmtQual', 'BsmtCond', 'BsmtExposure', 'BsmtFinType1', 'BsmtFinType2'):\n",
    "    sprkdf_concat = sprkdf_concat.withColumn(col_name, when(sprkdf_concat[col_name] == 'NA', 'NoBSMT').otherwise(sprkdf_concat[col_name]))\n",
    "\n",
    "# TotalBsmtSF  NA in pred. I suppose NA means 0\n",
    "sprkdf_concat = sprkdf_concat.withColumn('TotalBsmtSF', when(sprkdf_concat['TotalBsmtSF'] == 'NA', 0).otherwise(sprkdf_concat['TotalBsmtSF']))\n",
    "\n",
    "# Electrical NA in pred. filling with most popular values\n",
    "cnts = sprkdf_concat.where(sprkdf_concat['Electrical'] != 'None').groupBy('Electrical').count().sort(desc(\"count\"))\n",
    "mode = cnts.select('Electrical').limit(1).collect()[0][0]\n",
    "sprkdf_concat = sprkdf_concat.withColumn('Electrical', when(sprkdf_concat['Electrical'] == 'NA', mode).otherwise(sprkdf_concat['Electrical']))\n",
    "\n",
    "# KitchenAbvGr to categorical\n",
    "sprkdf_concat = sprkdf_concat.withColumn('KitchenAbvGr', col('KitchenAbvGr').cast(StringType()) )\n",
    "\n",
    "# KitchenQual NA in pred. filling with most popular values\n",
    "# features['KitchenQual'] = features['KitchenQual'].fillna(features['KitchenQual'].mode()[0])\n",
    "cnts = sprkdf_concat.where(sprkdf_concat['KitchenQual'] != 'None').groupBy('KitchenQual').count().sort(desc(\"count\"))\n",
    "mode = cnts.select('KitchenQual').limit(1).collect()[0][0]\n",
    "sprkdf_concat = sprkdf_concat.withColumn('KitchenQual', when(sprkdf_concat['KitchenQual'] == 'NA', mode).otherwise(sprkdf_concat['KitchenQual']))\n",
    "\n",
    "# FireplaceQu  NA in all. NA means No Fireplace\n",
    "# features['FireplaceQu'] = features['FireplaceQu'].fillna('NoFP')\n",
    "# sprkdf_concat.groupBy('FireplaceQu').count().sort(desc(\"count\")).show()\n",
    "# sprkdf_concat = sprkdf_concat.withColumn('KitchenQual', when(sprkdf_concat['KitchenQual'] == 'NA', mode).otherwise(sprkdf_concat['KitchenQual']))\n",
    "sprkdf_concat = sprkdf_concat.drop('FireplaceQu')\n",
    "\n",
    "# GarageType, GarageFinish, GarageQual  NA in all. NA means No Garage\n",
    "for col_name in ('GarageType', 'GarageFinish', 'GarageQual'):\n",
    "    sprkdf_concat = sprkdf_concat.withColumn(col_name, when(sprkdf_concat[col_name] == 'NA', 'NoGRG').otherwise(sprkdf_concat[col_name]))\n",
    "\n",
    "# GarageCars  NA in pred. I suppose NA means 0\n",
    "sprkdf_concat = sprkdf_concat.withColumn('GarageCars', when(sprkdf_concat['GarageCars'] == 'NA', 0).otherwise(sprkdf_concat['GarageCars']))\n",
    "\n",
    "# SaleType NA in pred. filling with most popular values\n",
    "cnts = sprkdf_concat.where(sprkdf_concat['SaleType'] != 'None').groupBy('SaleType').count().sort(desc(\"count\"))\n",
    "mode = cnts.select('SaleType').limit(1).collect()[0][0]\n",
    "sprkdf_concat = sprkdf_concat.withColumn('SaleType', when(sprkdf_concat['SaleType'] == 'NA', mode).otherwise(sprkdf_concat['SaleType']))\n",
    "\n",
    "# Year and Month to categorical\n",
    "sprkdf_concat = sprkdf_concat.withColumn('YrSold', col('YrSold').cast(StringType()) )\n",
    "sprkdf_concat = sprkdf_concat.withColumn('MoSold', col('MoSold').cast(StringType()) )\n",
    "\n",
    "\n",
    "sprkdf_concat = sprkdf_concat.withColumn('TotalSF', col('TotalBsmtSF')+col('1stFlrSF')+col('2ndFlrSF') )\n",
    "sprkdf_concat = sprkdf_concat.drop('TotalBsmtSF', '1stFlrSF', '2ndFlrSF')"
   ]
  },
  {
   "cell_type": "markdown",
   "metadata": {},
   "source": [
    "### Log Transformation"
   ]
  },
  {
   "cell_type": "code",
   "execution_count": 8,
   "metadata": {},
   "outputs": [
    {
     "name": "stdout",
     "output_type": "stream",
     "text": [
      "+-------+------------------+\n",
      "|summary|         SalePrice|\n",
      "+-------+------------------+\n",
      "|  count|              1460|\n",
      "|   mean|180921.19589041095|\n",
      "| stddev| 79442.50288288663|\n",
      "|    min|             34900|\n",
      "|    max|            755000|\n",
      "+-------+------------------+\n",
      "\n",
      "+-------+-------------------+\n",
      "|summary|          SalePrice|\n",
      "+-------+-------------------+\n",
      "|  count|               1460|\n",
      "|   mean|  5.221978956475621|\n",
      "| stddev|0.17347974217176848|\n",
      "|    min|   4.54282542695918|\n",
      "|    max|  5.877946951629188|\n",
      "+-------+-------------------+\n",
      "\n"
     ]
    },
    {
     "data": {
      "image/png": "[encoded data removed]",
      "text/plain": [
       "<Figure size 432x288 with 1 Axes>"
      ]
     },
     "metadata": {
      "needs_background": "light"
     },
     "output_type": "display_data"
    }
   ],
   "source": [
    "from pyspark.sql.functions import col\n",
    "\n",
    "sprkdf_train = sprkdf_concat.where(col('SalePrice') != -1)\n",
    "\n",
    "# Draw plot\n",
    "pdf = sprkdf_train.toPandas()\n",
    "pdf['SalePrice'].plot.hist(bins = 100)\n",
    "\n",
    "sprkdf_train.describe(['SalePrice']).show()\n",
    "sprkdf_train = sprkdf_train.withColumn('SalePrice', F.log(10.0, sprkdf_concat['SalePrice']))\n",
    "sprkdf_train.describe(['SalePrice']).show()"
   ]
  },
  {
   "cell_type": "code",
   "execution_count": 9,
   "metadata": {},
   "outputs": [
    {
     "data": {
      "text/plain": [
       "<matplotlib.axes._subplots.AxesSubplot at 0x7fdb561787f0>"
      ]
     },
     "execution_count": 9,
     "metadata": {},
     "output_type": "execute_result"
    },
    {
     "data": {
      "image/png": "[encoded data removed]",
      "text/plain": [
       "<Figure size 432x288 with 1 Axes>"
      ]
     },
     "metadata": {
      "needs_background": "light"
     },
     "output_type": "display_data"
    }
   ],
   "source": [
    "# Draw plot after log transformation\n",
    "pdf2 = sprkdf_train.toPandas()\n",
    "pdf2['SalePrice'].plot.hist(bins = 100)"
   ]
  },
  {
   "cell_type": "markdown",
   "metadata": {},
   "source": [
    "### Converting Categorical Data to Dummies"
   ]
  },
  {
   "cell_type": "code",
   "execution_count": 10,
   "metadata": {},
   "outputs": [],
   "source": [
    "categories = sprkdf_train.select('Condition1').distinct().rdd.flatMap(lambda x: x).collect()\n",
    "exprs = [F.when(F.col('Condition1') == category, 1).otherwise(0).alias('Condition1' + category)\n",
    "         for category in categories]\n",
    "sprkdf_train = sprkdf_train.select(exprs+sprkdf_train.columns)\n",
    "\n",
    "categories = sprkdf_train.select('Condition2').distinct().rdd.flatMap(lambda x: x).collect()\n",
    "exprs = [F.when(F.col('Condition2') == category, 1).otherwise(0).alias('Condition2' + category)\n",
    "         for category in categories]\n",
    "sprkdf_train = sprkdf_train.select(exprs+sprkdf_train.columns)\n",
    "\n",
    "categories = sprkdf_train.select('Exterior1st').distinct().rdd.flatMap(lambda x: x).collect()\n",
    "exprs = [F.when(F.col('Exterior1st') == category, 1).otherwise(0).alias('Exterior1st' + category)\n",
    "         for category in categories]\n",
    "sprkdf_train = sprkdf_train.select(exprs+sprkdf_train.columns)\n",
    "\n",
    "categories = sprkdf_train.select('Exterior2nd').distinct().rdd.flatMap(lambda x: x).collect()\n",
    "exprs = [F.when(F.col('Exterior2nd') == category, 1).otherwise(0).alias('Exterior2nd' + category)\n",
    "         for category in categories]\n",
    "sprkdf_train = sprkdf_train.select(exprs+sprkdf_train.columns)\n",
    "\n",
    "# categories = sprkdf_train.select('Exterior_nan').distinct().rdd.flatMap(lambda x: x).collect()\n",
    "# exprs = [F.when(F.col('Exterior_nan') == category, 1).otherwise(0).alias('Exterior_nan' + category)\n",
    "#          for category in categories]\n",
    "# sprkdf_train = sprkdf_train.select(exprs+sprkdf_train.columns)\n",
    "\n"
   ]
  },
  {
   "cell_type": "markdown",
   "metadata": {},
   "source": [
    "### Splitting Train and Test Features"
   ]
  },
  {
   "cell_type": "code",
   "execution_count": 11,
   "metadata": {},
   "outputs": [
    {
     "name": "stdout",
     "output_type": "stream",
     "text": [
      "Shape of sprkdf_train_split[0] (1043, 102)\n",
      "Shape of sprkdf_train_split[1] (417, 102)\n",
      "Shape of train_x (1043, 101)\n",
      "Shape of train_y (417, 1)\n",
      "Shape of test_x (1043, 101)\n",
      "Shape of test_y (417, 1)\n"
     ]
    }
   ],
   "source": [
    "sprkdf_train_split = sprkdf_train.randomSplit([0.7, 0.3])\n",
    "print(\"Shape of sprkdf_train_split[0]\",(sprkdf_train_split[0].count(), len(sprkdf_train_split[0].columns)))\n",
    "print(\"Shape of sprkdf_train_split[1]\",(sprkdf_train_split[1].count(), len(sprkdf_train_split[1].columns)))\n",
    "\n",
    "train_x = sprkdf_train_split[0].drop('SalePrice')\n",
    "train_y = sprkdf_train_split[1].select('SalePrice')\n",
    "test_x = sprkdf_train_split[0].drop('SalePrice')\n",
    "test_y = sprkdf_train_split[1].select('SalePrice')\n",
    "\n",
    "print(\"Shape of train_x\",(train_x.count(), len(train_x.columns)))\n",
    "print(\"Shape of train_y\",(train_y.count(), len(train_y.columns)))\n",
    "print(\"Shape of test_x\",(test_x.count(), len(test_x.columns)))\n",
    "print(\"Shape of test_y\",(test_y.count(), len(test_y.columns)))"
   ]
  },
  {
   "cell_type": "markdown",
   "metadata": {},
   "source": [
    "### Gradient Boosting"
   ]
  },
  {
   "cell_type": "code",
   "execution_count": 12,
   "metadata": {},
   "outputs": [],
   "source": [
    "from pyspark.ml import Pipeline\n",
    "from pyspark.ml.regression import GBTRegressor\n",
    "from pyspark.ml.feature import VectorIndexer\n",
    "from pyspark.ml.evaluation import RegressionEvaluator\n",
    "from pyspark.ml.feature import VectorAssembler"
   ]
  },
  {
   "cell_type": "code",
   "execution_count": 13,
   "metadata": {},
   "outputs": [
    {
     "name": "stdout",
     "output_type": "stream",
     "text": [
      "+--------------+------------------+\n",
      "|feature_vector|         SalePrice|\n",
      "+--------------+------------------+\n",
      "|         [7.0]| 5.319106059309776|\n",
      "|         [6.0]|  5.25887662937213|\n",
      "|         [7.0]|5.3492775274679545|\n",
      "+--------------+------------------+\n",
      "only showing top 3 rows\n",
      "\n",
      "+-----------------+-----------------+--------------+\n",
      "|       prediction|        SalePrice|feature_vector|\n",
      "+-----------------+-----------------+--------------+\n",
      "|4.778151250383644|4.547910016864493|         [2.0]|\n",
      "|4.778151250383644|4.778151250383643|         [2.0]|\n",
      "|4.936631365087343| 4.76715586608218|         [3.0]|\n",
      "|4.936631365087343|4.826074802700826|         [3.0]|\n",
      "|4.936631365087343|4.860338006570993|         [3.0]|\n",
      "+-----------------+-----------------+--------------+\n",
      "only showing top 5 rows\n",
      "\n"
     ]
    }
   ],
   "source": [
    "sprkdf_train = sprkdf_train.select('OverallQual', 'SalePrice')\n",
    "vectorAssembler = VectorAssembler(inputCols = ['OverallQual'], outputCol = 'feature_vector')\n",
    "vhouse_df = vectorAssembler.transform(sprkdf_train)\n",
    "vhouse_df = vhouse_df.select(['feature_vector', 'SalePrice'])\n",
    "vhouse_df.show(3)\n",
    "\n",
    "\n",
    "\n",
    "# Split the data into training and test sets (30% held out for testing)\n",
    "(trainingData, testData) = vhouse_df.randomSplit([0.7, 0.3])\n",
    "\n",
    "\n",
    "# Train a GBT model.\n",
    "gbt = GBTRegressor(featuresCol = 'feature_vector', labelCol='SalePrice')\n",
    "gbt_model = gbt.fit(trainingData)\n",
    "\n",
    "gbt_predictions = gbt_model.transform(testData)\n",
    "gbt_predictions.select('prediction', 'SalePrice', 'feature_vector').show(5)"
   ]
  },
  {
   "cell_type": "code",
   "execution_count": 14,
   "metadata": {},
   "outputs": [
    {
     "name": "stdout",
     "output_type": "stream",
     "text": [
      "Root Mean Squared Error (RMSE) on test data = 0.0964287\n"
     ]
    }
   ],
   "source": [
    "gbt_evaluator = RegressionEvaluator(\n",
    "    labelCol=\"SalePrice\", predictionCol=\"prediction\", metricName=\"rmse\")\n",
    "rmse = gbt_evaluator.evaluate(gbt_predictions)\n",
    "print(\"Root Mean Squared Error (RMSE) on test data = %g\" % rmse)"
   ]
  },
  {
   "cell_type": "code",
   "execution_count": null,
   "metadata": {},
   "outputs": [],
   "source": []
  }
 ],
 "metadata": {
  "kernelspec": {
   "display_name": "Python 3",
   "language": "python",
   "name": "python3"
  },
  "language_info": {
   "codemirror_mode": {
    "name": "ipython",
    "version": 3
   },
   "file_extension": ".py",
   "mimetype": "text/x-python",
   "name": "python",
   "nbconvert_exporter": "python",
   "pygments_lexer": "ipython3",
   "version": "3.7.3"
  }
 },
 "nbformat": 4,
 "nbformat_minor": 2
}
